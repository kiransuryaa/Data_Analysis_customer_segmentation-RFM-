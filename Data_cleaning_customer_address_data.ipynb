{
 "cells": [
  {
   "cell_type": "code",
   "execution_count": 1,
   "id": "964b76ec",
   "metadata": {},
   "outputs": [],
   "source": [
    "import pandas as pd\n",
    "import numpy as np\n",
    "import matplotlib.pyplot as plt\n",
    "import seaborn as sns\n",
    "%matplotlib inline\n",
    "\n",
    "from datetime import datetime, date"
   ]
  },
  {
   "cell_type": "code",
   "execution_count": 2,
   "id": "de4fb71b",
   "metadata": {},
   "outputs": [],
   "source": [
    "# Loading the Customer Address Data from the excel file\n",
    "\n",
    "cust_address = pd.read_excel(\"F://Kiran Data//PYTHON//Raw_data.xlsx\", sheet_name = 'CustomerAddress')"
   ]
  },
  {
   "cell_type": "code",
   "execution_count": 3,
   "id": "b5d5e068",
   "metadata": {},
   "outputs": [
    {
     "data": {
      "text/html": [
       "<div>\n",
       "<style scoped>\n",
       "    .dataframe tbody tr th:only-of-type {\n",
       "        vertical-align: middle;\n",
       "    }\n",
       "\n",
       "    .dataframe tbody tr th {\n",
       "        vertical-align: top;\n",
       "    }\n",
       "\n",
       "    .dataframe thead th {\n",
       "        text-align: right;\n",
       "    }\n",
       "</style>\n",
       "<table border=\"1\" class=\"dataframe\">\n",
       "  <thead>\n",
       "    <tr style=\"text-align: right;\">\n",
       "      <th></th>\n",
       "      <th>customer_id</th>\n",
       "      <th>address</th>\n",
       "      <th>postcode</th>\n",
       "      <th>state</th>\n",
       "      <th>country</th>\n",
       "      <th>property_valuation</th>\n",
       "    </tr>\n",
       "  </thead>\n",
       "  <tbody>\n",
       "    <tr>\n",
       "      <th>0</th>\n",
       "      <td>1</td>\n",
       "      <td>060 Morning Avenue</td>\n",
       "      <td>2016</td>\n",
       "      <td>New South Wales</td>\n",
       "      <td>Australia</td>\n",
       "      <td>10</td>\n",
       "    </tr>\n",
       "    <tr>\n",
       "      <th>1</th>\n",
       "      <td>2</td>\n",
       "      <td>6 Meadow Vale Court</td>\n",
       "      <td>2153</td>\n",
       "      <td>New South Wales</td>\n",
       "      <td>Australia</td>\n",
       "      <td>10</td>\n",
       "    </tr>\n",
       "    <tr>\n",
       "      <th>2</th>\n",
       "      <td>4</td>\n",
       "      <td>0 Holy Cross Court</td>\n",
       "      <td>4211</td>\n",
       "      <td>QLD</td>\n",
       "      <td>Australia</td>\n",
       "      <td>9</td>\n",
       "    </tr>\n",
       "    <tr>\n",
       "      <th>3</th>\n",
       "      <td>5</td>\n",
       "      <td>17979 Del Mar Point</td>\n",
       "      <td>2448</td>\n",
       "      <td>New South Wales</td>\n",
       "      <td>Australia</td>\n",
       "      <td>4</td>\n",
       "    </tr>\n",
       "    <tr>\n",
       "      <th>4</th>\n",
       "      <td>6</td>\n",
       "      <td>9 Oakridge Court</td>\n",
       "      <td>3216</td>\n",
       "      <td>VIC</td>\n",
       "      <td>Australia</td>\n",
       "      <td>9</td>\n",
       "    </tr>\n",
       "  </tbody>\n",
       "</table>\n",
       "</div>"
      ],
      "text/plain": [
       "   customer_id              address  postcode            state    country  \\\n",
       "0            1   060 Morning Avenue      2016  New South Wales  Australia   \n",
       "1            2  6 Meadow Vale Court      2153  New South Wales  Australia   \n",
       "2            4   0 Holy Cross Court      4211              QLD  Australia   \n",
       "3            5  17979 Del Mar Point      2448  New South Wales  Australia   \n",
       "4            6     9 Oakridge Court      3216              VIC  Australia   \n",
       "\n",
       "   property_valuation  \n",
       "0                  10  \n",
       "1                  10  \n",
       "2                   9  \n",
       "3                   4  \n",
       "4                   9  "
      ]
     },
     "execution_count": 3,
     "metadata": {},
     "output_type": "execute_result"
    }
   ],
   "source": [
    "# Checking first 5 records from Customer Address Data\n",
    "\n",
    "cust_address.head()"
   ]
  },
  {
   "cell_type": "code",
   "execution_count": 4,
   "id": "98857960",
   "metadata": {},
   "outputs": [
    {
     "name": "stdout",
     "output_type": "stream",
     "text": [
      "<class 'pandas.core.frame.DataFrame'>\n",
      "RangeIndex: 3999 entries, 0 to 3998\n",
      "Data columns (total 6 columns):\n",
      " #   Column              Non-Null Count  Dtype \n",
      "---  ------              --------------  ----- \n",
      " 0   customer_id         3999 non-null   int64 \n",
      " 1   address             3999 non-null   object\n",
      " 2   postcode            3999 non-null   int64 \n",
      " 3   state               3999 non-null   object\n",
      " 4   country             3999 non-null   object\n",
      " 5   property_valuation  3999 non-null   int64 \n",
      "dtypes: int64(3), object(3)\n",
      "memory usage: 187.6+ KB\n"
     ]
    }
   ],
   "source": [
    "# Information of columns and data-types of Customer Address Data.\n",
    "\n",
    "cust_address.info()"
   ]
  },
  {
   "cell_type": "markdown",
   "id": "627b3836",
   "metadata": {},
   "source": [
    "The data-type of columns looks fine. Let's check for the data quality and apply data cleaning process where ever applicable to clean our dataset before performing any analysis."
   ]
  },
  {
   "cell_type": "markdown",
   "id": "4d7b4c9e",
   "metadata": {},
   "source": [
    "## Total Records"
   ]
  },
  {
   "cell_type": "code",
   "execution_count": 5,
   "id": "60a5ac5c",
   "metadata": {},
   "outputs": [
    {
     "name": "stdout",
     "output_type": "stream",
     "text": [
      "Total records (rows) in the dataset : 3999\n",
      "Total columns (features) in the dataset : 6\n"
     ]
    }
   ],
   "source": [
    "# Let's check shape of data\n",
    "\n",
    "print(\"Total records (rows) in the dataset : {}\".format(cust_address.shape[0]))\n",
    "print(\"Total columns (features) in the dataset : {}\".format(cust_address.shape[1]))"
   ]
  },
  {
   "cell_type": "markdown",
   "id": "d69eedc3",
   "metadata": {},
   "source": [
    "## Numeric and Non numeric column"
   ]
  },
  {
   "cell_type": "code",
   "execution_count": 6,
   "id": "96bb6cd6",
   "metadata": {},
   "outputs": [
    {
     "name": "stdout",
     "output_type": "stream",
     "text": [
      "The numeric columns are : ['customer_id' 'postcode' 'property_valuation']\n",
      "The Non numeric columns are : ['address' 'state' 'country']\n"
     ]
    }
   ],
   "source": [
    "# Select all numeric columns\n",
    "df_numeric = cust_address.select_dtypes(include = [np.number])\n",
    "numeric_cols = df_numeric.columns.values\n",
    "print(f\"The numeric columns are : {numeric_cols}\")\n",
    "\n",
    "#Select all Non-numeric columns\n",
    "df_non_numeric = cust_address.select_dtypes(exclude = [np.number])\n",
    "Non_numeric_cols = df_non_numeric.columns.values\n",
    "print(f\"The Non numeric columns are : {Non_numeric_cols}\")\n"
   ]
  },
  {
   "cell_type": "markdown",
   "id": "d9ceb655",
   "metadata": {},
   "source": [
    "## 1. Check Missing Values"
   ]
  },
  {
   "cell_type": "markdown",
   "id": "18265528",
   "metadata": {},
   "source": [
    "Checking for the presence of any missing values in the dataset. If missing values are present for a particular feature then depending upon the situation the feature may be either dropped (cases when a major amount of data is missing) or an appropiate value will be imputed in the feature column with missing values."
   ]
  },
  {
   "cell_type": "code",
   "execution_count": 7,
   "id": "2770c4bc",
   "metadata": {},
   "outputs": [
    {
     "data": {
      "text/plain": [
       "customer_id           0\n",
       "address               0\n",
       "postcode              0\n",
       "state                 0\n",
       "country               0\n",
       "property_valuation    0\n",
       "dtype: int64"
      ]
     },
     "execution_count": 7,
     "metadata": {},
     "output_type": "execute_result"
    }
   ],
   "source": [
    "# Total number of missing values\n",
    "\n",
    "cust_address.isnull().sum()"
   ]
  },
  {
   "cell_type": "markdown",
   "id": "87b2eb35",
   "metadata": {},
   "source": [
    "There are no missing values in this dataset."
   ]
  },
  {
   "cell_type": "markdown",
   "id": "b9a48c64",
   "metadata": {},
   "source": [
    "## 2. Check inconsistency in the data"
   ]
  },
  {
   "cell_type": "markdown",
   "id": "0e3ba16a",
   "metadata": {},
   "source": [
    "We will check whether there is inconsistent data / typo error data is present in the categorical columns.<br>\n",
    "The columns to be checked are <b>'address', 'postcode' ,'state', 'country'</b>."
   ]
  },
  {
   "cell_type": "markdown",
   "id": "d3ec3a11",
   "metadata": {},
   "source": [
    "### 2.1 State"
   ]
  },
  {
   "cell_type": "code",
   "execution_count": 8,
   "id": "15e43a70",
   "metadata": {},
   "outputs": [
    {
     "data": {
      "text/plain": [
       "NSW                2054\n",
       "VIC                 939\n",
       "QLD                 838\n",
       "New South Wales      86\n",
       "Victoria             82\n",
       "Name: state, dtype: int64"
      ]
     },
     "execution_count": 8,
     "metadata": {},
     "output_type": "execute_result"
    }
   ],
   "source": [
    "cust_address['state'].value_counts()"
   ]
  },
  {
   "cell_type": "markdown",
   "id": "9abf101e",
   "metadata": {},
   "source": [
    "Here there are inconsistent data in State column. For New South Wales and Victoria we have two values, one being the full name and the other being their short name. The State names should be standardised and columns with state as <b>New South Wales will be replaced by NSW</b> and columns with state as <b>Victoria will be replaced by VIC</b>."
   ]
  },
  {
   "cell_type": "code",
   "execution_count": 9,
   "id": "18fc015e",
   "metadata": {},
   "outputs": [],
   "source": [
    "# Defined function to replace full name of state into short name\n",
    "\n",
    "def replace_state_names(state_name):\n",
    "    if state_name == 'New South Wales':\n",
    "        return 'NSW'\n",
    "    elif state_name == 'Victoria':\n",
    "        return 'VIC'\n",
    "    else:\n",
    "        return state_name\n",
    "        \n",
    "# Applying the above fuction to state column\n",
    "cust_address['state'] = cust_address['state'].apply(replace_state_names)"
   ]
  },
  {
   "cell_type": "code",
   "execution_count": 10,
   "id": "70a2b85b",
   "metadata": {},
   "outputs": [
    {
     "data": {
      "text/plain": [
       "NSW    2140\n",
       "VIC    1021\n",
       "QLD     838\n",
       "Name: state, dtype: int64"
      ]
     },
     "execution_count": 10,
     "metadata": {},
     "output_type": "execute_result"
    }
   ],
   "source": [
    "cust_address['state'].value_counts()"
   ]
  },
  {
   "cell_type": "markdown",
   "id": "afdfd1cc",
   "metadata": {},
   "source": [
    "After applying the above function the state name is standardised and there is no inconsistency in the state column."
   ]
  },
  {
   "cell_type": "markdown",
   "id": "f77bed53",
   "metadata": {},
   "source": [
    "### 2.2 Country"
   ]
  },
  {
   "cell_type": "code",
   "execution_count": 11,
   "id": "22e5a9f1",
   "metadata": {},
   "outputs": [
    {
     "data": {
      "text/plain": [
       "Australia    3999\n",
       "Name: country, dtype: int64"
      ]
     },
     "execution_count": 11,
     "metadata": {},
     "output_type": "execute_result"
    }
   ],
   "source": [
    "cust_address['country'].value_counts()"
   ]
  },
  {
   "cell_type": "markdown",
   "id": "134ed8b1",
   "metadata": {},
   "source": [
    "There is no inconsistent data in the country column"
   ]
  },
  {
   "cell_type": "markdown",
   "id": "a2952b13",
   "metadata": {},
   "source": [
    "### 2.3 Postcode"
   ]
  },
  {
   "cell_type": "code",
   "execution_count": 12,
   "id": "e211743f",
   "metadata": {},
   "outputs": [
    {
     "data": {
      "text/html": [
       "<div>\n",
       "<style scoped>\n",
       "    .dataframe tbody tr th:only-of-type {\n",
       "        vertical-align: middle;\n",
       "    }\n",
       "\n",
       "    .dataframe tbody tr th {\n",
       "        vertical-align: top;\n",
       "    }\n",
       "\n",
       "    .dataframe thead th {\n",
       "        text-align: right;\n",
       "    }\n",
       "</style>\n",
       "<table border=\"1\" class=\"dataframe\">\n",
       "  <thead>\n",
       "    <tr style=\"text-align: right;\">\n",
       "      <th></th>\n",
       "      <th>address</th>\n",
       "      <th>postcode</th>\n",
       "      <th>state</th>\n",
       "      <th>country</th>\n",
       "    </tr>\n",
       "  </thead>\n",
       "  <tbody>\n",
       "    <tr>\n",
       "      <th>0</th>\n",
       "      <td>060 Morning Avenue</td>\n",
       "      <td>2016</td>\n",
       "      <td>NSW</td>\n",
       "      <td>Australia</td>\n",
       "    </tr>\n",
       "    <tr>\n",
       "      <th>1</th>\n",
       "      <td>6 Meadow Vale Court</td>\n",
       "      <td>2153</td>\n",
       "      <td>NSW</td>\n",
       "      <td>Australia</td>\n",
       "    </tr>\n",
       "    <tr>\n",
       "      <th>2</th>\n",
       "      <td>0 Holy Cross Court</td>\n",
       "      <td>4211</td>\n",
       "      <td>QLD</td>\n",
       "      <td>Australia</td>\n",
       "    </tr>\n",
       "    <tr>\n",
       "      <th>3</th>\n",
       "      <td>17979 Del Mar Point</td>\n",
       "      <td>2448</td>\n",
       "      <td>NSW</td>\n",
       "      <td>Australia</td>\n",
       "    </tr>\n",
       "    <tr>\n",
       "      <th>4</th>\n",
       "      <td>9 Oakridge Court</td>\n",
       "      <td>3216</td>\n",
       "      <td>VIC</td>\n",
       "      <td>Australia</td>\n",
       "    </tr>\n",
       "    <tr>\n",
       "      <th>...</th>\n",
       "      <td>...</td>\n",
       "      <td>...</td>\n",
       "      <td>...</td>\n",
       "      <td>...</td>\n",
       "    </tr>\n",
       "    <tr>\n",
       "      <th>3994</th>\n",
       "      <td>1482 Hauk Trail</td>\n",
       "      <td>3064</td>\n",
       "      <td>VIC</td>\n",
       "      <td>Australia</td>\n",
       "    </tr>\n",
       "    <tr>\n",
       "      <th>3995</th>\n",
       "      <td>57042 Village Green Point</td>\n",
       "      <td>4511</td>\n",
       "      <td>QLD</td>\n",
       "      <td>Australia</td>\n",
       "    </tr>\n",
       "    <tr>\n",
       "      <th>3996</th>\n",
       "      <td>87 Crescent Oaks Alley</td>\n",
       "      <td>2756</td>\n",
       "      <td>NSW</td>\n",
       "      <td>Australia</td>\n",
       "    </tr>\n",
       "    <tr>\n",
       "      <th>3997</th>\n",
       "      <td>8194 Lien Street</td>\n",
       "      <td>4032</td>\n",
       "      <td>QLD</td>\n",
       "      <td>Australia</td>\n",
       "    </tr>\n",
       "    <tr>\n",
       "      <th>3998</th>\n",
       "      <td>320 Acker Drive</td>\n",
       "      <td>2251</td>\n",
       "      <td>NSW</td>\n",
       "      <td>Australia</td>\n",
       "    </tr>\n",
       "  </tbody>\n",
       "</table>\n",
       "<p>3999 rows × 4 columns</p>\n",
       "</div>"
      ],
      "text/plain": [
       "                        address  postcode state    country\n",
       "0            060 Morning Avenue      2016   NSW  Australia\n",
       "1           6 Meadow Vale Court      2153   NSW  Australia\n",
       "2            0 Holy Cross Court      4211   QLD  Australia\n",
       "3           17979 Del Mar Point      2448   NSW  Australia\n",
       "4              9 Oakridge Court      3216   VIC  Australia\n",
       "...                         ...       ...   ...        ...\n",
       "3994            1482 Hauk Trail      3064   VIC  Australia\n",
       "3995  57042 Village Green Point      4511   QLD  Australia\n",
       "3996     87 Crescent Oaks Alley      2756   NSW  Australia\n",
       "3997           8194 Lien Street      4032   QLD  Australia\n",
       "3998            320 Acker Drive      2251   NSW  Australia\n",
       "\n",
       "[3999 rows x 4 columns]"
      ]
     },
     "execution_count": 12,
     "metadata": {},
     "output_type": "execute_result"
    }
   ],
   "source": [
    "cust_address[['address','postcode', 'state' , 'country']].drop_duplicates()"
   ]
  },
  {
   "cell_type": "markdown",
   "id": "74f0f04f",
   "metadata": {},
   "source": [
    "The Postcode column looks perfect. There is no inconsistency / typo in the data."
   ]
  },
  {
   "cell_type": "markdown",
   "id": "e78c1c4c",
   "metadata": {},
   "source": [
    "## 3. Check Duplicate records"
   ]
  },
  {
   "cell_type": "markdown",
   "id": "f7323395",
   "metadata": {},
   "source": [
    "We need to ensure that there is no duplication of records in the dataset. This may lead to error in data analysis due to poor data quality. \n",
    "If there are duplicate rows of data then we need to drop such records.\n",
    "For checking for duplicate records we need to firstly remove the primary key column of the dataset then apply drop_duplicates() function provided by Python."
   ]
  },
  {
   "cell_type": "code",
   "execution_count": 13,
   "id": "44f57887",
   "metadata": {},
   "outputs": [
    {
     "name": "stdout",
     "output_type": "stream",
     "text": [
      "Number of records after removing customer_id (pk), duplicates : 3999\n",
      "Number of records in original dataset : 3999\n"
     ]
    }
   ],
   "source": [
    "# Dropping the primary key column i.e customer_id and storing into a temporary dataframe.\n",
    "\n",
    "cust_address_no_duplicates = cust_address.drop('customer_id', axis=1).drop_duplicates()\n",
    "\n",
    "print(f\"Number of records after removing customer_id (pk), duplicates : {cust_address_no_duplicates.shape[0]}\")\n",
    "print(f\"Number of records in original dataset : {cust_address.shape[0]}\")"
   ]
  },
  {
   "cell_type": "markdown",
   "id": "eb80b8e6",
   "metadata": {},
   "source": [
    "since both numbers are same. so we can say that there are no dupicate records in this dataset."
   ]
  },
  {
   "cell_type": "markdown",
   "id": "d19bdbb5",
   "metadata": {},
   "source": [
    "## 4. Exporting cleaned customer address data to csv"
   ]
  },
  {
   "cell_type": "code",
   "execution_count": 14,
   "id": "a9798537",
   "metadata": {},
   "outputs": [],
   "source": [
    "cust_address.to_csv('CustomerAddress_cleaned.csv', index= False)"
   ]
  }
 ],
 "metadata": {
  "kernelspec": {
   "display_name": "Python 3 (ipykernel)",
   "language": "python",
   "name": "python3"
  },
  "language_info": {
   "codemirror_mode": {
    "name": "ipython",
    "version": 3
   },
   "file_extension": ".py",
   "mimetype": "text/x-python",
   "name": "python",
   "nbconvert_exporter": "python",
   "pygments_lexer": "ipython3",
   "version": "3.9.13"
  }
 },
 "nbformat": 4,
 "nbformat_minor": 5
}
